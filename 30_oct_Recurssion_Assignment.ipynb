{
 "cells": [
  {
   "cell_type": "code",
   "execution_count": 10,
   "id": "1d180b3e-d3b1-4805-bec1-5a6599f19262",
   "metadata": {},
   "outputs": [
    {
     "name": "stdout",
     "output_type": "stream",
     "text": [
      "move disk 1 from A to C\n",
      "move disk 2 from A to B\n",
      "move disk 1 from C to B\n",
      "move disk 3 from A to C\n",
      "move disk 1 from B to A\n",
      "move disk 2 from B to C\n",
      "move disk 1 from A to C\n"
     ]
    }
   ],
   "source": [
    "# Q.1 Can you explain the logic and working of the Tower of Hanoi algorithm by writing a python program?\n",
    "# How does the recursion work, and how are the movements of disks between rods accomplished?\n",
    "def toi(n,source,target,aux):\n",
    "#     Function to solve the Tower of Hanoi problem recursively.\n",
    "\n",
    "#     Parameters:\n",
    "#     - n: Number of disks\n",
    "#     - source: Source rod\n",
    "#     - target: Target rod\n",
    "#     - auxiliary: Auxiliary rod\n",
    "    # Base case: If there's only one disk, move it from source to target\n",
    "    if(n==1):\n",
    "        print(f\"move disk 1 from {source} to {target}\")\n",
    "        return\n",
    "    # Move n-1 disks from source to auxiliary rod using target rod\n",
    "    toi(n-1,source,aux,target)\n",
    "    \n",
    "    # Move the remaining disk from source to target rod\n",
    "    print(f\"move disk {n} from {source} to {target}\")\n",
    "    \n",
    "    # Move the n-1 disks from auxiliary rod to target rod using source rod\n",
    "    toi(n-1,aux,target,source)\n",
    "\n",
    "# Example usage with 3 disks and rods A, B, and C\n",
    "toi(3,'A','C','B')"
   ]
  },
  {
   "cell_type": "code",
   "execution_count": 15,
   "id": "27d2ed0f-3580-4654-b413-e0659d2fa7e6",
   "metadata": {},
   "outputs": [
    {
     "name": "stdout",
     "output_type": "stream",
     "text": [
      "22\n"
     ]
    }
   ],
   "source": [
    "# Q. 3 Print the max value of the array [ 13, 1, -3, 22, 5].\n",
    "def maxi(n,li): #this is a function which is used to return maximum using recursive approach it takes len of list and li as an arguments\n",
    "    if(n==1): ##this is a base case which is   used to stop the recursion so if n==1 then return l1[0] index value\n",
    "        return li[1] \n",
    "    max_of_rest = maxi(n-1,li) #this line is used to store n-1th index value from the list \n",
    "    return max_of_rest if max_of_rest>li[n-1] else li[n-1] #this line is used to caompre and return if this list value is greater \n",
    "\n",
    "##this is a driver code\n",
    "l1 = [ 13, 1, -3, 22, 5] \n",
    "print(maxi(len(l1),l1))\n",
    "    "
   ]
  },
  {
   "cell_type": "code",
   "execution_count": 20,
   "id": "64814795-f9ee-40ec-b251-3b1582674ce6",
   "metadata": {},
   "outputs": [
    {
     "data": {
      "text/plain": [
       "120"
      ]
     },
     "execution_count": 20,
     "metadata": {},
     "output_type": "execute_result"
    }
   ],
   "source": [
    "# Q.4 Find the sum of the values of the array [92, 23, 15, -20, 10].\n",
    "def sum_of_element(l,n):\n",
    "    if(n<0):\n",
    "        return 0\n",
    "    return l[n] + sum_of_element(l,n-1)\n",
    "l1 = [92, 23, 15, -20, 10]\n",
    "sum_of_element(l1,len(l1)-1)"
   ]
  },
  {
   "cell_type": "code",
   "execution_count": 30,
   "id": "d2e13b4f-111a-481c-9018-a0d9b5952792",
   "metadata": {},
   "outputs": [
    {
     "name": "stdin",
     "output_type": "stream",
     "text": [
      "enter your number: 153\n"
     ]
    },
    {
     "name": "stdout",
     "output_type": "stream",
     "text": [
      "Yes\n"
     ]
    }
   ],
   "source": [
    "# Q.5 Given a number n. Print if it is an armstrong number or not.An armstrong number is a number if the sum\n",
    "# of every digit in that number raised to the power of total digits in that number is equal to the number.\n",
    "# Example : 153 = 1^3 + 5^3 + 3^3 = 1 + 125 + 27 = 153 hence 153 is an armstrong number. (Easy)\n",
    "# Input1 : 153\n",
    "# Output1 : Yes\n",
    "# Input 2 : 134\n",
    "# Output2 : No\n",
    "def check_armstrong(n): ##this function is used to check a number is armstrong or not \n",
    "    if(n==0):##this is a base case which is execute at last in this case it return 0 is n==0\n",
    "        return 0\n",
    "    return check_armstrong(n//10) + (n%10)**3 #else recursively call it self and extract each digit and cube this digit and add this digit at last \n",
    "n = int(input(\"enter your number:\"))\n",
    "if(check_armstrong(n)==n):##if this generated number is equal to original number then print 'YES' else print('NO')\n",
    "    print(\"Yes\")\n",
    "else:\n",
    "    print(\"No\")\n"
   ]
  },
  {
   "cell_type": "code",
   "execution_count": null,
   "id": "887d0670-adf0-4571-b8ce-a482b03cf3b5",
   "metadata": {},
   "outputs": [],
   "source": []
  },
  {
   "cell_type": "code",
   "execution_count": null,
   "id": "39864a32-b7c6-46a1-9bdf-bbc3823a9b6c",
   "metadata": {},
   "outputs": [],
   "source": []
  },
  {
   "cell_type": "code",
   "execution_count": null,
   "id": "4859a387-a7a7-4542-92fb-254f387e9ed9",
   "metadata": {},
   "outputs": [],
   "source": []
  }
 ],
 "metadata": {
  "kernelspec": {
   "display_name": "Python 3 (ipykernel)",
   "language": "python",
   "name": "python3"
  },
  "language_info": {
   "codemirror_mode": {
    "name": "ipython",
    "version": 3
   },
   "file_extension": ".py",
   "mimetype": "text/x-python",
   "name": "python",
   "nbconvert_exporter": "python",
   "pygments_lexer": "ipython3",
   "version": "3.10.8"
  }
 },
 "nbformat": 4,
 "nbformat_minor": 5
}
